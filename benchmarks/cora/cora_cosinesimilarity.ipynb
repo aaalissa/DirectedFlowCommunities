{
 "cells": [
  {
   "cell_type": "code",
   "execution_count": 3,
   "metadata": {},
   "outputs": [],
   "source": [
    "import pandas as pd\n",
    "from ast import literal_eval\n",
    "import numpy as np\n",
    "from sklearn.metrics.pairwise import cosine_similarity"
   ]
  },
  {
   "cell_type": "code",
   "execution_count": 4,
   "metadata": {},
   "outputs": [],
   "source": [
    "# Load the edges data\n",
    "edges_path = 'cora_network.csv'\n",
    "edges_df = pd.read_csv(edges_path)\n",
    "\n",
    "# Load the node features data\n",
    "node_features_path = 'cora_nodes_with_feature.csv'\n",
    "node_features_df = pd.read_csv(node_features_path)"
   ]
  },
  {
   "cell_type": "code",
   "execution_count": 5,
   "metadata": {},
   "outputs": [],
   "source": [
    "# Assigning column names to the edges DataFrame\n",
    "edges_df.columns = ['source', 'target']\n",
    "\n",
    "# Converting the 'features' column from string representation of lists to actual lists\n",
    "node_features_df['features'] = node_features_df['features'].apply(lambda x: literal_eval(x))\n",
    "\n",
    "# Creating a dictionary for node IDs and their corresponding feature vectors for quick lookup\n",
    "node_features_dict = dict(zip(node_features_df['nodeId'], node_features_df['features']))\n",
    "\n",
    "# Function to calculate cosine similarity\n",
    "def calculate_cosine_similarity(source, target, features_dict):\n",
    "    source_features = np.array(features_dict[source]).reshape(1, -1)\n",
    "    target_features = np.array(features_dict[target]).reshape(1, -1)\n",
    "    return cosine_similarity(source_features, target_features)[0][0]\n",
    "\n",
    "# Calculating cosine similarity for each edge\n",
    "edges_df['cosine_similarity'] = edges_df.apply(lambda row: calculate_cosine_similarity(row['source'], row['target'], node_features_dict), axis=1)\n",
    "\n",
    "#save to csv\n",
    "edges_df.to_csv('cora_edges_cosine.csv', index=False)\n"
   ]
  }
 ],
 "metadata": {
  "kernelspec": {
   "display_name": "torch",
   "language": "python",
   "name": "python3"
  },
  "language_info": {
   "codemirror_mode": {
    "name": "ipython",
    "version": 3
   },
   "file_extension": ".py",
   "mimetype": "text/x-python",
   "name": "python",
   "nbconvert_exporter": "python",
   "pygments_lexer": "ipython3",
   "version": "3.10.8"
  }
 },
 "nbformat": 4,
 "nbformat_minor": 2
}
