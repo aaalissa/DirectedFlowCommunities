{
 "cells": [
  {
   "cell_type": "code",
   "execution_count": null,
   "metadata": {},
   "outputs": [],
   "source": [
    "# import files from parent directory\n",
    "import sys\n",
    "sys.path.append(\"..\")\n",
    "\n",
    "import matplotlib.pyplot as plt\n",
    "import networkx as nx\n",
    "import numpy as np\n",
    "\n",
    "from utils.network_loader import setup_dyetracing_graph, read_communities, load_nx_graph\n",
    "from utils.dyetracing_classes import run_simulation, cluster_and_evaluate\n",
    "from utils.node_selection import find_low_betweenness_nodes"
   ]
  },
  {
   "cell_type": "code",
   "execution_count": null,
   "metadata": {},
   "outputs": [],
   "source": [
    "#import network and community file\n",
    "network_file = '../benchmarks/LF_created_networks/500_node/30/1_network_N500_k50_maxk75_mu30.dat'\n",
    "community_file = '../benchmarks/LF_created_networks/500_node/30/1_community_N500_k50_maxk75_mu30.dat'\n",
    "\n",
    "#convert network and community file to graph and group membership\n",
    "node_list, edge_list = setup_dyetracing_graph(network_file)  \n",
    "ground_truth = np.array(list(read_communities(community_file).values()))\n",
    "print(\"number of communities: \", len(np.unique(ground_truth)))\n",
    "\n",
    "#create networkx graph for visualization and source node selection\n",
    "G_directed = load_nx_graph(node_list, network_file)"
   ]
  },
  {
   "cell_type": "code",
   "execution_count": null,
   "metadata": {},
   "outputs": [],
   "source": [
    "#select source nodes\n",
    "source_nodes = find_low_betweenness_nodes(G_directed, node_list, 100)\n",
    "\n",
    "#set params and run simulation\n",
    "params = {\"num_steps\": 50, \"absorption_rate\": 1, \"absorption_limit\": 0.4, \"decay_rate\": 0}\n",
    "flow_profile = run_simulation(node_list, edge_list, source_nodes, params)"
   ]
  },
  {
   "cell_type": "code",
   "execution_count": null,
   "metadata": {},
   "outputs": [],
   "source": [
    "# get simulation results\n",
    "results = cluster_and_evaluate(flow_profile, range(3,35), plot=True, true_membership=ground_truth)\n",
    "\n",
    "#get community labels\n",
    "labels = results[\"optimal_labels\"]\n",
    "nmi = results[\"nmi\"]\n"
   ]
  },
  {
   "cell_type": "code",
   "execution_count": null,
   "metadata": {},
   "outputs": [],
   "source": [
    "#plot graph with colored communities\n",
    "pos = nx.spring_layout(G_directed, seed=1, k=1.5)\n",
    "nx.draw_networkx_nodes(G_directed, pos, node_size=100, node_color=labels, cmap=\"tab20\", edgecolors='grey', linewidths=1.2)\n",
    "# nx.draw_networkx_edges(G_directed, pos, alpha=0.2, width=1.3, edge_color='grey') #edges not shown for better visibility\n",
    "\n",
    "plt.title(f\"Directed Flow Communities on LFR network\\nNMI: {nmi:.2f}\")\n",
    "plt.axis('off')\n",
    "plt.show()"
   ]
  }
 ],
 "metadata": {
  "kernelspec": {
   "display_name": "torch",
   "language": "python",
   "name": "python3"
  },
  "language_info": {
   "codemirror_mode": {
    "name": "ipython",
    "version": 3
   },
   "file_extension": ".py",
   "mimetype": "text/x-python",
   "name": "python",
   "nbconvert_exporter": "python",
   "pygments_lexer": "ipython3",
   "version": "3.10.8"
  }
 },
 "nbformat": 4,
 "nbformat_minor": 2
}
